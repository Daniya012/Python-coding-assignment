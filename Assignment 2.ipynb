{
 "cells": [
  {
   "cell_type": "code",
   "execution_count": null,
   "id": "53edd451",
   "metadata": {},
   "outputs": [],
   "source": [
    "#write a program to determine whether a triangle is equilateral,isosceles or scalene based on user input sides.\n",
    "\n",
    "side1 = int(input(\"enter a number for side 1:\"))\n",
    "side2 = int(input(\"enter a number for side 2:\"))\n",
    "side3 = int(input(\"enter a number for side 3:\"))\n",
    "\n",
    "if side1 == side2 == side3:\n",
    "    print(\"the given triangle is an equilateral triangle\")\n",
    "elif side1 == side2 or side1 == side3 or side2 == side3:\n",
    "    print(\"the given triangle is a isoscles triangle\")\n",
    "else:\n",
    "    print(\"the given trinagle is a scalene triangle\")\n",
    "\n"
   ]
  },
  {
   "cell_type": "code",
   "execution_count": null,
   "id": "93464a3d",
   "metadata": {},
   "outputs": [],
   "source": [
    "#input marks of 5 subjects and check whether the student passed(must score >33) and their average percentage.\n",
    "\n",
    "student_marks = {\n",
    "    \"Maths\": 98,\n",
    "    \"English\":93,\n",
    "    \"Urdu\": 87,\n",
    "    \"Biology\": 88,\n",
    "    \"Physics\": 85\n",
    "    }\n",
    "for subject, mark in student_marks.items():\n",
    "    print(subject, \":\",mark)\n",
    "    if mark >= 33:\n",
    "     print(\"PASSED\")\n",
    "    else:\n",
    "     print(\"FAILED\")\n",
    "\n",
    "total_marks = 0\n",
    "for i in student_marks.values():\n",
    "    total_marks = total_marks + i\n",
    "print(\"student percentage:\", total_marks/5)\n",
    "\n",
    "     \n",
    "#student_marks.values()    \n",
    "\n",
    "\n",
    "   \n",
    "   \n",
    "   \n",
    "    \n"
   ]
  },
  {
   "cell_type": "code",
   "execution_count": 66,
   "id": "72e8e0de",
   "metadata": {},
   "outputs": [
    {
     "name": "stdout",
     "output_type": "stream",
     "text": [
      "\n",
      "{'H': 1}\n",
      "\n",
      "{'H': 1, 'e': 1}\n",
      "\n",
      "{'H': 1, 'e': 1, 'l': 1}\n",
      "\n",
      "{'H': 1, 'e': 1, 'l': 2, 'o': 1}\n"
     ]
    }
   ],
   "source": [
    "#count the frequency of characters in a string using a dictionary.\n",
    "\n",
    "my_string = \"Hello\"\n",
    "char_frequency = {}\n",
    "for char in my_string:\n",
    "    if char in char_frequency:\n",
    "        char_frequency[char] = char_frequency[char] + 1\n",
    "    else:\n",
    "        char_frequency[char] = 1\n",
    "        print()\n",
    "        print(char_frequency)\n",
    "\n"
   ]
  },
  {
   "cell_type": "code",
   "execution_count": null,
   "id": "408f60d2",
   "metadata": {},
   "outputs": [
    {
     "name": "stdout",
     "output_type": "stream",
     "text": [
      "{'Pakistan': 'Islamabad'}\n",
      "{'Pakistan': 'Islamabad', 'China': 'Beijing'}\n",
      "{'Pakistan': 'Islamabad', 'China': 'Beijing', 'India': 'Delhi'}\n"
     ]
    }
   ],
   "source": [
    "#convert two lists into a dictionary(one list of keys, one list of values).\n",
    "Countries = [\"Pakistan\", 'China', \"India\"]\n",
    "Capitals  = [\"Islamabad\", \"Beijing\", \"Delhi\"]\n",
    "\n",
    "Countries_capitals = dict()\n",
    "i = 0\n",
    "for names in Countries:\n",
    "    Countries_capitals[names] = Capitals[i]\n",
    "    i = i + 1\n",
    "print(Countries_capitals)\n",
    "\n",
    "\n",
    "\n",
    "\n"
   ]
  },
  {
   "cell_type": "code",
   "execution_count": 2,
   "id": "0081e58a",
   "metadata": {},
   "outputs": [
    {
     "name": "stdout",
     "output_type": "stream",
     "text": [
      "Conversion successful! Result: 123\n"
     ]
    }
   ],
   "source": [
    "#try converting a string into an integer and catch any value error if it fails.\n",
    "\n",
    "user_input = input(\"Type to convert:\")\n",
    "\n",
    "try:\n",
    "    Result = int(user_input)\n",
    "    print(\"Conversion successful! Result:\", Result)\n",
    "\n",
    "except ValueError:\n",
    "    print(\"Sorry, your typed data is not valid. Please try again. \")\n"
   ]
  },
  {
   "cell_type": "code",
   "execution_count": 4,
   "id": "fc72d8ef",
   "metadata": {},
   "outputs": [
    {
     "name": "stdout",
     "output_type": "stream",
     "text": [
      "Sorry, this product is not available in store.\n"
     ]
    }
   ],
   "source": [
    "#Handle a key error while accessing a non-existent key frm a dictionary.\n",
    "\n",
    "Products = {\"Orange\":100,\n",
    "            \"Bananas\": 250,\n",
    "            \"Apples\": 200.99\n",
    "}\n",
    "\n",
    "try:\n",
    "    print(\"Price of Oranges:\",Products[\"strawberies\"])\n",
    "\n",
    "except:\n",
    "    print(\"Sorry, this product is not available in store.\")\n"
   ]
  },
  {
   "cell_type": "code",
   "execution_count": 12,
   "id": "abd7fff6",
   "metadata": {},
   "outputs": [
    {
     "name": "stdout",
     "output_type": "stream",
     "text": [
      "File not found!\n",
      "File closed\n"
     ]
    }
   ],
   "source": [
    "# Use try-except-finally block to open a file, read its contents, and close the file(even if an error occurs).\n",
    "file = open(\"myfile.txt\",\"w\")\n",
    "file.write(\"hello world\")\n",
    "file.close()\n",
    "\n",
    "file = open(\"myfile.txt\",\"a\")\n",
    "file.write(\"\\n python programming\")\n",
    "file.close()\n",
    "\n",
    "file = open(\"myfile.txt\",\"a\")\n",
    "file.write(\"\\n 12345\")\n",
    "file.close()\n",
    "\n",
    "try:\n",
    "    file = open(\"pythonfile.txt\",\"r\")\n",
    "    file.read()\n",
    "    file.close()\n",
    "\n",
    "except FileNotFoundError:\n",
    "    print(\"File not found!\")\n",
    "\n",
    "finally:\n",
    "    try:\n",
    "        file.close()\n",
    "        print(\"File closed\")\n",
    "\n",
    "    except NameError:\n",
    "        print(\"File was never opened\")\n",
    "\n",
    "        \n"
   ]
  },
  {
   "cell_type": "code",
   "execution_count": 11,
   "id": "5d2a4cf9",
   "metadata": {},
   "outputs": [
    {
     "name": "stdout",
     "output_type": "stream",
     "text": [
      "number is: 12345\n"
     ]
    }
   ],
   "source": [
    "#nest multiple try-except blocks to handle file read and data conversion.\n",
    "try:\n",
    "    file = open(\"myfile.txt\",\"r\")\n",
    "\n",
    "    try:\n",
    "        file = file.read()\n",
    "        number = int(file)\n",
    "        print(\"number is:\",number)\n",
    "\n",
    "    except ValueError:\n",
    "        print(\"File content could not be converted.\")\n",
    "\n",
    "except FileNotFoundError:\n",
    "    print(\"File not found!\")"
   ]
  }
 ],
 "metadata": {
  "kernelspec": {
   "display_name": "Python 3",
   "language": "python",
   "name": "python3"
  },
  "language_info": {
   "codemirror_mode": {
    "name": "ipython",
    "version": 3
   },
   "file_extension": ".py",
   "mimetype": "text/x-python",
   "name": "python",
   "nbconvert_exporter": "python",
   "pygments_lexer": "ipython3",
   "version": "3.13.5"
  }
 },
 "nbformat": 4,
 "nbformat_minor": 5
}
